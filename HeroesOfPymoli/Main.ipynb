{
 "cells": [
  {
   "cell_type": "code",
   "execution_count": 1,
   "metadata": {},
   "outputs": [
    {
     "data": {
      "text/html": [
       "<div>\n",
       "<style scoped>\n",
       "    .dataframe tbody tr th:only-of-type {\n",
       "        vertical-align: middle;\n",
       "    }\n",
       "\n",
       "    .dataframe tbody tr th {\n",
       "        vertical-align: top;\n",
       "    }\n",
       "\n",
       "    .dataframe thead th {\n",
       "        text-align: right;\n",
       "    }\n",
       "</style>\n",
       "<table border=\"1\" class=\"dataframe\">\n",
       "  <thead>\n",
       "    <tr style=\"text-align: right;\">\n",
       "      <th></th>\n",
       "      <th>Purchase ID</th>\n",
       "      <th>SN</th>\n",
       "      <th>Age</th>\n",
       "      <th>Gender</th>\n",
       "      <th>Item ID</th>\n",
       "      <th>Item Name</th>\n",
       "      <th>Price</th>\n",
       "    </tr>\n",
       "  </thead>\n",
       "  <tbody>\n",
       "    <tr>\n",
       "      <th>775</th>\n",
       "      <td>775</td>\n",
       "      <td>Aethedru70</td>\n",
       "      <td>21</td>\n",
       "      <td>Female</td>\n",
       "      <td>60</td>\n",
       "      <td>Wolf</td>\n",
       "      <td>3.54</td>\n",
       "    </tr>\n",
       "    <tr>\n",
       "      <th>776</th>\n",
       "      <td>776</td>\n",
       "      <td>Iral74</td>\n",
       "      <td>21</td>\n",
       "      <td>Male</td>\n",
       "      <td>164</td>\n",
       "      <td>Exiled Doomblade</td>\n",
       "      <td>1.63</td>\n",
       "    </tr>\n",
       "    <tr>\n",
       "      <th>777</th>\n",
       "      <td>777</td>\n",
       "      <td>Yathecal72</td>\n",
       "      <td>20</td>\n",
       "      <td>Male</td>\n",
       "      <td>67</td>\n",
       "      <td>Celeste, Incarnation of the Corrupted</td>\n",
       "      <td>3.46</td>\n",
       "    </tr>\n",
       "    <tr>\n",
       "      <th>778</th>\n",
       "      <td>778</td>\n",
       "      <td>Sisur91</td>\n",
       "      <td>7</td>\n",
       "      <td>Male</td>\n",
       "      <td>92</td>\n",
       "      <td>Final Critic</td>\n",
       "      <td>4.19</td>\n",
       "    </tr>\n",
       "    <tr>\n",
       "      <th>779</th>\n",
       "      <td>779</td>\n",
       "      <td>Ennrian78</td>\n",
       "      <td>24</td>\n",
       "      <td>Male</td>\n",
       "      <td>50</td>\n",
       "      <td>Dawn</td>\n",
       "      <td>4.60</td>\n",
       "    </tr>\n",
       "  </tbody>\n",
       "</table>\n",
       "</div>"
      ],
      "text/plain": [
       "     Purchase ID          SN  Age  Gender  Item ID  \\\n",
       "775          775  Aethedru70   21  Female       60   \n",
       "776          776      Iral74   21    Male      164   \n",
       "777          777  Yathecal72   20    Male       67   \n",
       "778          778     Sisur91    7    Male       92   \n",
       "779          779   Ennrian78   24    Male       50   \n",
       "\n",
       "                                 Item Name  Price  \n",
       "775                                   Wolf   3.54  \n",
       "776                       Exiled Doomblade   1.63  \n",
       "777  Celeste, Incarnation of the Corrupted   3.46  \n",
       "778                           Final Critic   4.19  \n",
       "779                                   Dawn   4.60  "
      ]
     },
     "execution_count": 1,
     "metadata": {},
     "output_type": "execute_result"
    }
   ],
   "source": [
    "# Dependencies and Setup\n",
    "import pandas as pd\n",
    "\n",
    "# File to Load\n",
    "file_to_load = \"Resources/purchase_data.csv\"\n",
    "\n",
    "# Read Purchasing File and store into Pandas data frame\n",
    "purchase_data = pd.read_csv(file_to_load)\n",
    "\n",
    "purchase_data.tail(5)"
   ]
  },
  {
   "cell_type": "markdown",
   "metadata": {},
   "source": [
    "### Player Count"
   ]
  },
  {
   "cell_type": "markdown",
   "metadata": {},
   "source": [
    "Display the total number of players\n"
   ]
  },
  {
   "cell_type": "code",
   "execution_count": 2,
   "metadata": {},
   "outputs": [
    {
     "name": "stdout",
     "output_type": "stream",
     "text": [
      "576 players.\n"
     ]
    }
   ],
   "source": [
    "# Pass the unique elements in \"SN\" series to len to get number of elements\n",
    "uniquePlayers = len(pd.unique(purchase_data[\"SN\"]))\n",
    "\n",
    "print(f'{uniquePlayers} players.')\n"
   ]
  },
  {
   "cell_type": "markdown",
   "metadata": {},
   "source": [
    "## Purchasing Analysis (Total)"
   ]
  },
  {
   "cell_type": "markdown",
   "metadata": {},
   "source": [
    "* Run basic calculations to obtain number of unique items, average price, etc.\n",
    "\n",
    "\n",
    "* Create a summary data frame to hold the results\n",
    "\n",
    "\n",
    "* Optional: give the displayed data cleaner formatting\n",
    "\n",
    "\n",
    "* Display the summary data frame\n"
   ]
  },
  {
   "cell_type": "code",
   "execution_count": 3,
   "metadata": {
    "scrolled": true
   },
   "outputs": [
    {
     "data": {
      "text/html": [
       "<style  type=\"text/css\" >\n",
       "</style><table id=\"T_5e056036_9d58_11eb_b007_1e00ea2e1236\" ><thead>    <tr>        <th class=\"blank level0\" ></th>        <th class=\"col_heading level0 col0\" >Unique Items</th>        <th class=\"col_heading level0 col1\" >Average Price</th>        <th class=\"col_heading level0 col2\" >Total Purchases</th>        <th class=\"col_heading level0 col3\" >Total Revenue</th>    </tr></thead><tbody>\n",
       "                <tr>\n",
       "                        <th id=\"T_5e056036_9d58_11eb_b007_1e00ea2e1236level0_row0\" class=\"row_heading level0 row0\" >0</th>\n",
       "                        <td id=\"T_5e056036_9d58_11eb_b007_1e00ea2e1236row0_col0\" class=\"data row0 col0\" >179</td>\n",
       "                        <td id=\"T_5e056036_9d58_11eb_b007_1e00ea2e1236row0_col1\" class=\"data row0 col1\" >$3.05</td>\n",
       "                        <td id=\"T_5e056036_9d58_11eb_b007_1e00ea2e1236row0_col2\" class=\"data row0 col2\" >780</td>\n",
       "                        <td id=\"T_5e056036_9d58_11eb_b007_1e00ea2e1236row0_col3\" class=\"data row0 col3\" >$2,379.77</td>\n",
       "            </tr>\n",
       "    </tbody></table>"
      ],
      "text/plain": [
       "<pandas.io.formats.style.Styler at 0x7f8eda4d62e0>"
      ]
     },
     "execution_count": 3,
     "metadata": {},
     "output_type": "execute_result"
    }
   ],
   "source": [
    "#pass the unique elements in \"item id\" to len for a count of unique elements\n",
    "uniqueItems = len(pd.unique(purchase_data['Item ID']))\n",
    "\n",
    "# pass mean method to price series\n",
    "averagePrice = purchase_data['Price'].mean()\n",
    "\n",
    "# number of elements/rows in the dataframe\n",
    "totalPurchases = len(purchase_data['Price'])\n",
    "\n",
    "# sum of price data from dataframe\n",
    "totalRevenue = purchase_data['Price'].sum()\n",
    "\n",
    "# construct a dataframe that takes the above calculations and makes them readable\n",
    "summary_df = pd.DataFrame(\n",
    "    {\n",
    "        'Unique Items': uniqueItems,\n",
    "        'Average Price': averagePrice,\n",
    "        'Total Purchases': totalPurchases,\n",
    "        'Total Revenue': totalRevenue\n",
    "    },\n",
    "    index=range(0,1)\n",
    ")\n",
    "\n",
    "# format the column data to be more readable\n",
    "format_mapping = {\"Average Price\": \"${:,.2f}\",\"Total Revenue\": \"${:,.2f}\"}\n",
    "\n",
    "summary_df.style.format(format_mapping)"
   ]
  },
  {
   "cell_type": "markdown",
   "metadata": {},
   "source": [
    "## Gender Demographics"
   ]
  },
  {
   "cell_type": "markdown",
   "metadata": {},
   "source": [
    "* Percentage and Count of Male Players\n",
    "\n",
    "\n",
    "* Percentage and Count of Female Players\n",
    "\n",
    "\n",
    "* Percentage and Count of Other / Non-Disclosed\n",
    "\n",
    "\n"
   ]
  },
  {
   "cell_type": "code",
   "execution_count": 4,
   "metadata": {},
   "outputs": [],
   "source": [
    "# Construct 3 new dataframes based on the possible gender options\n",
    "male_df = purchase_data[purchase_data[\"Gender\"]==\"Male\"]\n",
    "\n",
    "female_df = purchase_data[purchase_data[\"Gender\"]==\"Female\"]\n",
    "\n",
    "other_df = purchase_data[(purchase_data[\"Gender\"]!=\"Female\")&(purchase_data[\"Gender\"]!=\"Male\")]"
   ]
  },
  {
   "cell_type": "code",
   "execution_count": 5,
   "metadata": {},
   "outputs": [],
   "source": [
    "# Define a function that calculates a percent of purchases for the item passed\n",
    "def percent(count):\n",
    "    percent = round(100 * (count / int(totalPurchases)),2)\n",
    "    return percent"
   ]
  },
  {
   "cell_type": "code",
   "execution_count": 6,
   "metadata": {},
   "outputs": [
    {
     "data": {
      "text/html": [
       "<div>\n",
       "<style scoped>\n",
       "    .dataframe tbody tr th:only-of-type {\n",
       "        vertical-align: middle;\n",
       "    }\n",
       "\n",
       "    .dataframe tbody tr th {\n",
       "        vertical-align: top;\n",
       "    }\n",
       "\n",
       "    .dataframe thead th {\n",
       "        text-align: right;\n",
       "    }\n",
       "</style>\n",
       "<table border=\"1\" class=\"dataframe\">\n",
       "  <thead>\n",
       "    <tr style=\"text-align: right;\">\n",
       "      <th></th>\n",
       "      <th>Percentage</th>\n",
       "      <th>Count</th>\n",
       "    </tr>\n",
       "  </thead>\n",
       "  <tbody>\n",
       "    <tr>\n",
       "      <th>Male</th>\n",
       "      <td>83.59%</td>\n",
       "      <td>652</td>\n",
       "    </tr>\n",
       "    <tr>\n",
       "      <th>Female</th>\n",
       "      <td>14.49%</td>\n",
       "      <td>113</td>\n",
       "    </tr>\n",
       "    <tr>\n",
       "      <th>Other</th>\n",
       "      <td>1.92%</td>\n",
       "      <td>15</td>\n",
       "    </tr>\n",
       "  </tbody>\n",
       "</table>\n",
       "</div>"
      ],
      "text/plain": [
       "       Percentage  Count\n",
       "Male       83.59%    652\n",
       "Female     14.49%    113\n",
       "Other       1.92%     15"
      ]
     },
     "execution_count": 6,
     "metadata": {},
     "output_type": "execute_result"
    }
   ],
   "source": [
    "# DataFrame with percentages and count of each gender option\n",
    "genderDemo = pd.DataFrame(\n",
    "    {\n",
    "        \"Percentage\": [\n",
    "            percent(len(male_df)),\n",
    "            percent(len(female_df)),\n",
    "            percent(len(other_df))\n",
    "        ],\n",
    "        \"Count\": [\n",
    "            len(male_df),\n",
    "            len(female_df),\n",
    "            len(other_df)\n",
    "        ]\n",
    "    }, index = [\"Male\",\"Female\",\"Other\"]\n",
    ")\n",
    "\n",
    "genderDemo[\"Percentage\"] = genderDemo[\"Percentage\"].map(\"{:,.2f}%\".format)\n",
    "genderDemo\n"
   ]
  },
  {
   "cell_type": "markdown",
   "metadata": {},
   "source": [
    "\n",
    "## Purchasing Analysis (Gender)"
   ]
  },
  {
   "cell_type": "markdown",
   "metadata": {},
   "source": [
    "* Run basic calculations to obtain purchase count, avg. purchase price, avg. purchase total per person etc. by gender\n",
    "\n",
    "\n",
    "\n",
    "\n",
    "* Create a summary data frame to hold the results\n",
    "\n",
    "\n",
    "* Optional: give the displayed data cleaner formatting\n",
    "\n",
    "\n",
    "* Display the summary data frame"
   ]
  },
  {
   "cell_type": "code",
   "execution_count": 7,
   "metadata": {},
   "outputs": [],
   "source": [
    "# Dataframe with price data from each gender dataframe\n",
    "genderSummary = pd.DataFrame(\n",
    "    {\n",
    "        \"Purchase Count\": [ #how many purchases per gender option\n",
    "            len(female_df),\n",
    "            len(male_df),\n",
    "            len(other_df)\n",
    "                          ],\n",
    "        \"Average Purchase\": [ \n",
    "            female_df[\"Price\"].mean(),\n",
    "            male_df[\"Price\"].mean(),\n",
    "            other_df[\"Price\"].mean()\n",
    "                            ],\n",
    "        \"Total Purchase Value\": [\n",
    "            female_df[\"Price\"].sum(),\n",
    "            male_df[\"Price\"].sum(),\n",
    "            other_df[\"Price\"].sum()\n",
    "                                ],\n",
    "        \"Average Purchase Total per Person\": [ #for each person, find out how much they spent, then find the average for everyone\n",
    "            female_df.groupby([\"SN\"])[\"Price\"].sum().mean(),\n",
    "            male_df.groupby([\"SN\"])[\"Price\"].sum().mean(),\n",
    "            other_df.groupby([\"SN\"])[\"Price\"].sum().mean()\n",
    "        ]\n",
    "        \n",
    "    }, index=['female','male','other'] \n",
    ")                               "
   ]
  },
  {
   "cell_type": "code",
   "execution_count": 8,
   "metadata": {},
   "outputs": [
    {
     "data": {
      "text/html": [
       "<div>\n",
       "<style scoped>\n",
       "    .dataframe tbody tr th:only-of-type {\n",
       "        vertical-align: middle;\n",
       "    }\n",
       "\n",
       "    .dataframe tbody tr th {\n",
       "        vertical-align: top;\n",
       "    }\n",
       "\n",
       "    .dataframe thead th {\n",
       "        text-align: right;\n",
       "    }\n",
       "</style>\n",
       "<table border=\"1\" class=\"dataframe\">\n",
       "  <thead>\n",
       "    <tr style=\"text-align: right;\">\n",
       "      <th></th>\n",
       "      <th>Purchase Count</th>\n",
       "      <th>Average Purchase</th>\n",
       "      <th>Total Purchase Value</th>\n",
       "      <th>Average Purchase Total per Person</th>\n",
       "    </tr>\n",
       "  </thead>\n",
       "  <tbody>\n",
       "    <tr>\n",
       "      <th>female</th>\n",
       "      <td>113</td>\n",
       "      <td>$3.20</td>\n",
       "      <td>$361.94</td>\n",
       "      <td>$4.47</td>\n",
       "    </tr>\n",
       "    <tr>\n",
       "      <th>male</th>\n",
       "      <td>652</td>\n",
       "      <td>$3.02</td>\n",
       "      <td>$1,967.64</td>\n",
       "      <td>$4.07</td>\n",
       "    </tr>\n",
       "    <tr>\n",
       "      <th>other</th>\n",
       "      <td>15</td>\n",
       "      <td>$3.35</td>\n",
       "      <td>$50.19</td>\n",
       "      <td>$4.56</td>\n",
       "    </tr>\n",
       "  </tbody>\n",
       "</table>\n",
       "</div>"
      ],
      "text/plain": [
       "        Purchase Count Average Purchase Total Purchase Value  \\\n",
       "female             113            $3.20              $361.94   \n",
       "male               652            $3.02            $1,967.64   \n",
       "other               15            $3.35               $50.19   \n",
       "\n",
       "       Average Purchase Total per Person  \n",
       "female                             $4.47  \n",
       "male                               $4.07  \n",
       "other                              $4.56  "
      ]
     },
     "execution_count": 8,
     "metadata": {},
     "output_type": "execute_result"
    }
   ],
   "source": [
    "# Formatting to prettify \n",
    "genderSummary['Average Purchase'] = genderSummary['Average Purchase'].map(\"${:,.2f}\".format)\n",
    "genderSummary['Average Purchase Total per Person'] = genderSummary['Average Purchase Total per Person'].map(\"${:,.2f}\".format)\n",
    "genderSummary['Total Purchase Value'] = genderSummary['Total Purchase Value'].map(\"${:,.2f}\".format)\n",
    "genderSummary\n",
    "              "
   ]
  },
  {
   "cell_type": "markdown",
   "metadata": {},
   "source": [
    "## Age Demographics"
   ]
  },
  {
   "cell_type": "markdown",
   "metadata": {},
   "source": [
    "* Establish bins for ages\n",
    "\n",
    "\n",
    "* Categorize the existing players using the age bins. Hint: use pd.cut()\n",
    "\n",
    "\n",
    "* Calculate the numbers and percentages by age group\n",
    "\n",
    "\n",
    "* Create a summary data frame to hold the results\n",
    "\n",
    "\n",
    "* Optional: round the percentage column to two decimal points\n",
    "\n",
    "\n",
    "* Display Age Demographics Table\n"
   ]
  },
  {
   "cell_type": "code",
   "execution_count": 9,
   "metadata": {},
   "outputs": [],
   "source": [
    "# Creates the bin based on the dataframe series and chosen bin size\n",
    "def binConstructor(dataframe, series, bins=4):\n",
    "    minSeries = dataframe[series].min() -1\n",
    "    maxSeries = dataframe[series].max() +1\n",
    "    dataRange = maxSeries - minSeries\n",
    "    output = [minSeries]\n",
    "    for i in range(1,bins+1):\n",
    "        point = i*(dataRange/bins) + minSeries\n",
    "        output.append(point)\n",
    "        \n",
    "    return output\n",
    "\n",
    "   \n",
    "binAge = binConstructor(purchase_data,\"Age\",8)"
   ]
  },
  {
   "cell_type": "code",
   "execution_count": 10,
   "metadata": {},
   "outputs": [],
   "source": [
    "# Appends a bin column to the dataframe \n",
    "age_df = purchase_data\n",
    "age_df[\"Bin\"] = pd.cut(age_df[\"Age\"],binAge) \n",
    "binned_df = age_df.groupby(age_df[\"Bin\"])"
   ]
  },
  {
   "cell_type": "code",
   "execution_count": 11,
   "metadata": {},
   "outputs": [],
   "source": [
    "# Count the number of purchases in each age bin\n",
    "player_count = age_df[\"Bin\"].value_counts()\n",
    "\n",
    "# dataframe to display count and percent of purchases in each bin\n",
    "demo_final = pd.DataFrame(\n",
    "    {\n",
    "        \"Player Count\": player_count,\n",
    "        \"Percentage\": 100 * player_count / player_count.sum(),\n",
    "    }\n",
    ")"
   ]
  },
  {
   "cell_type": "code",
   "execution_count": 12,
   "metadata": {},
   "outputs": [
    {
     "data": {
      "text/html": [
       "<div>\n",
       "<style scoped>\n",
       "    .dataframe tbody tr th:only-of-type {\n",
       "        vertical-align: middle;\n",
       "    }\n",
       "\n",
       "    .dataframe tbody tr th {\n",
       "        vertical-align: top;\n",
       "    }\n",
       "\n",
       "    .dataframe thead th {\n",
       "        text-align: right;\n",
       "    }\n",
       "</style>\n",
       "<table border=\"1\" class=\"dataframe\">\n",
       "  <thead>\n",
       "    <tr style=\"text-align: right;\">\n",
       "      <th></th>\n",
       "      <th>Player Count</th>\n",
       "      <th>Percentage</th>\n",
       "    </tr>\n",
       "  </thead>\n",
       "  <tbody>\n",
       "    <tr>\n",
       "      <th>(21.0, 26.0]</th>\n",
       "      <td>277</td>\n",
       "      <td>35.51%</td>\n",
       "    </tr>\n",
       "    <tr>\n",
       "      <th>(16.0, 21.0]</th>\n",
       "      <td>232</td>\n",
       "      <td>29.74%</td>\n",
       "    </tr>\n",
       "    <tr>\n",
       "      <th>(11.0, 16.0]</th>\n",
       "      <td>77</td>\n",
       "      <td>9.87%</td>\n",
       "    </tr>\n",
       "    <tr>\n",
       "      <th>(26.0, 31.0]</th>\n",
       "      <td>70</td>\n",
       "      <td>8.97%</td>\n",
       "    </tr>\n",
       "    <tr>\n",
       "      <th>(31.0, 36.0]</th>\n",
       "      <td>50</td>\n",
       "      <td>6.41%</td>\n",
       "    </tr>\n",
       "    <tr>\n",
       "      <th>(6.0, 11.0]</th>\n",
       "      <td>39</td>\n",
       "      <td>5.00%</td>\n",
       "    </tr>\n",
       "    <tr>\n",
       "      <th>(36.0, 41.0]</th>\n",
       "      <td>30</td>\n",
       "      <td>3.85%</td>\n",
       "    </tr>\n",
       "    <tr>\n",
       "      <th>(41.0, 46.0]</th>\n",
       "      <td>5</td>\n",
       "      <td>0.64%</td>\n",
       "    </tr>\n",
       "  </tbody>\n",
       "</table>\n",
       "</div>"
      ],
      "text/plain": [
       "              Player Count Percentage\n",
       "(21.0, 26.0]           277     35.51%\n",
       "(16.0, 21.0]           232     29.74%\n",
       "(11.0, 16.0]            77      9.87%\n",
       "(26.0, 31.0]            70      8.97%\n",
       "(31.0, 36.0]            50      6.41%\n",
       "(6.0, 11.0]             39      5.00%\n",
       "(36.0, 41.0]            30      3.85%\n",
       "(41.0, 46.0]             5      0.64%"
      ]
     },
     "execution_count": 12,
     "metadata": {},
     "output_type": "execute_result"
    }
   ],
   "source": [
    "# Format to percent\n",
    "demo_final[\"Percentage\"] = demo_final[\"Percentage\"].map(\"{:,.2f}%\".format)\n",
    "demo_final"
   ]
  },
  {
   "cell_type": "markdown",
   "metadata": {},
   "source": [
    "## Purchasing Analysis (Age)"
   ]
  },
  {
   "cell_type": "markdown",
   "metadata": {},
   "source": [
    "* Bin the purchase_data data frame by age\n",
    "\n",
    "\n",
    "* Run basic calculations to obtain purchase count, avg. purchase price, avg. purchase total per person etc. in the table below\n",
    "\n",
    "\n",
    "* Create a summary data frame to hold the results\n",
    "\n",
    "\n",
    "* Optional: give the displayed data cleaner formatting\n",
    "\n",
    "\n",
    "* Display the summary data frame"
   ]
  },
  {
   "cell_type": "code",
   "execution_count": 13,
   "metadata": {},
   "outputs": [],
   "source": [
    "# creates a new dataframe with data grouped by age demographic\n",
    "purchases_df = pd.DataFrame(\n",
    "    {\n",
    "        \"Purchase Count\": age_df[\"Bin\"].value_counts(),\n",
    "        \"Average Purchase Price\":binned_df[\"Price\"].mean(),\n",
    "        \"Total Purchase Value\":binned_df[\"Price\"].sum(),\n",
    "        \"Average Purchase Total\":binned_df[\"Price\"].sum() / age_df[\"Bin\"].value_counts()\n",
    "    },\n",
    "    index = pd.unique(age_df[\"Bin\"])\n",
    ")"
   ]
  },
  {
   "cell_type": "code",
   "execution_count": 14,
   "metadata": {},
   "outputs": [
    {
     "data": {
      "text/html": [
       "<style  type=\"text/css\" >\n",
       "</style><table id=\"T_5e138b16_9d58_11eb_b007_1e00ea2e1236\" ><thead>    <tr>        <th class=\"blank level0\" ></th>        <th class=\"col_heading level0 col0\" >Purchase Count</th>        <th class=\"col_heading level0 col1\" >Average Purchase Price</th>        <th class=\"col_heading level0 col2\" >Total Purchase Value</th>        <th class=\"col_heading level0 col3\" >Average Purchase Total</th>    </tr></thead><tbody>\n",
       "                <tr>\n",
       "                        <th id=\"T_5e138b16_9d58_11eb_b007_1e00ea2e1236level0_row0\" class=\"row_heading level0 row0\" >(16.0, 21.0]</th>\n",
       "                        <td id=\"T_5e138b16_9d58_11eb_b007_1e00ea2e1236row0_col0\" class=\"data row0 col0\" >232</td>\n",
       "                        <td id=\"T_5e138b16_9d58_11eb_b007_1e00ea2e1236row0_col1\" class=\"data row0 col1\" >$3.07</td>\n",
       "                        <td id=\"T_5e138b16_9d58_11eb_b007_1e00ea2e1236row0_col2\" class=\"data row0 col2\" >$711.74</td>\n",
       "                        <td id=\"T_5e138b16_9d58_11eb_b007_1e00ea2e1236row0_col3\" class=\"data row0 col3\" >$3.07</td>\n",
       "            </tr>\n",
       "            <tr>\n",
       "                        <th id=\"T_5e138b16_9d58_11eb_b007_1e00ea2e1236level0_row1\" class=\"row_heading level0 row1\" >(36.0, 41.0]</th>\n",
       "                        <td id=\"T_5e138b16_9d58_11eb_b007_1e00ea2e1236row1_col0\" class=\"data row1 col0\" >30</td>\n",
       "                        <td id=\"T_5e138b16_9d58_11eb_b007_1e00ea2e1236row1_col1\" class=\"data row1 col1\" >$3.54</td>\n",
       "                        <td id=\"T_5e138b16_9d58_11eb_b007_1e00ea2e1236row1_col2\" class=\"data row1 col2\" >$106.23</td>\n",
       "                        <td id=\"T_5e138b16_9d58_11eb_b007_1e00ea2e1236row1_col3\" class=\"data row1 col3\" >$3.54</td>\n",
       "            </tr>\n",
       "            <tr>\n",
       "                        <th id=\"T_5e138b16_9d58_11eb_b007_1e00ea2e1236level0_row2\" class=\"row_heading level0 row2\" >(21.0, 26.0]</th>\n",
       "                        <td id=\"T_5e138b16_9d58_11eb_b007_1e00ea2e1236row2_col0\" class=\"data row2 col0\" >277</td>\n",
       "                        <td id=\"T_5e138b16_9d58_11eb_b007_1e00ea2e1236row2_col1\" class=\"data row2 col1\" >$3.04</td>\n",
       "                        <td id=\"T_5e138b16_9d58_11eb_b007_1e00ea2e1236row2_col2\" class=\"data row2 col2\" >$841.09</td>\n",
       "                        <td id=\"T_5e138b16_9d58_11eb_b007_1e00ea2e1236row2_col3\" class=\"data row2 col3\" >$3.04</td>\n",
       "            </tr>\n",
       "            <tr>\n",
       "                        <th id=\"T_5e138b16_9d58_11eb_b007_1e00ea2e1236level0_row3\" class=\"row_heading level0 row3\" >(31.0, 36.0]</th>\n",
       "                        <td id=\"T_5e138b16_9d58_11eb_b007_1e00ea2e1236row3_col0\" class=\"data row3 col0\" >50</td>\n",
       "                        <td id=\"T_5e138b16_9d58_11eb_b007_1e00ea2e1236row3_col1\" class=\"data row3 col1\" >$2.89</td>\n",
       "                        <td id=\"T_5e138b16_9d58_11eb_b007_1e00ea2e1236row3_col2\" class=\"data row3 col2\" >$144.32</td>\n",
       "                        <td id=\"T_5e138b16_9d58_11eb_b007_1e00ea2e1236row3_col3\" class=\"data row3 col3\" >$2.89</td>\n",
       "            </tr>\n",
       "            <tr>\n",
       "                        <th id=\"T_5e138b16_9d58_11eb_b007_1e00ea2e1236level0_row4\" class=\"row_heading level0 row4\" >(26.0, 31.0]</th>\n",
       "                        <td id=\"T_5e138b16_9d58_11eb_b007_1e00ea2e1236row4_col0\" class=\"data row4 col0\" >70</td>\n",
       "                        <td id=\"T_5e138b16_9d58_11eb_b007_1e00ea2e1236row4_col1\" class=\"data row4 col1\" >$2.93</td>\n",
       "                        <td id=\"T_5e138b16_9d58_11eb_b007_1e00ea2e1236row4_col2\" class=\"data row4 col2\" >$205.28</td>\n",
       "                        <td id=\"T_5e138b16_9d58_11eb_b007_1e00ea2e1236row4_col3\" class=\"data row4 col3\" >$2.93</td>\n",
       "            </tr>\n",
       "            <tr>\n",
       "                        <th id=\"T_5e138b16_9d58_11eb_b007_1e00ea2e1236level0_row5\" class=\"row_heading level0 row5\" >(6.0, 11.0]</th>\n",
       "                        <td id=\"T_5e138b16_9d58_11eb_b007_1e00ea2e1236row5_col0\" class=\"data row5 col0\" >39</td>\n",
       "                        <td id=\"T_5e138b16_9d58_11eb_b007_1e00ea2e1236row5_col1\" class=\"data row5 col1\" >$3.28</td>\n",
       "                        <td id=\"T_5e138b16_9d58_11eb_b007_1e00ea2e1236row5_col2\" class=\"data row5 col2\" >$127.75</td>\n",
       "                        <td id=\"T_5e138b16_9d58_11eb_b007_1e00ea2e1236row5_col3\" class=\"data row5 col3\" >$3.28</td>\n",
       "            </tr>\n",
       "            <tr>\n",
       "                        <th id=\"T_5e138b16_9d58_11eb_b007_1e00ea2e1236level0_row6\" class=\"row_heading level0 row6\" >(11.0, 16.0]</th>\n",
       "                        <td id=\"T_5e138b16_9d58_11eb_b007_1e00ea2e1236row6_col0\" class=\"data row6 col0\" >77</td>\n",
       "                        <td id=\"T_5e138b16_9d58_11eb_b007_1e00ea2e1236row6_col1\" class=\"data row6 col1\" >$2.97</td>\n",
       "                        <td id=\"T_5e138b16_9d58_11eb_b007_1e00ea2e1236row6_col2\" class=\"data row6 col2\" >$228.37</td>\n",
       "                        <td id=\"T_5e138b16_9d58_11eb_b007_1e00ea2e1236row6_col3\" class=\"data row6 col3\" >$2.97</td>\n",
       "            </tr>\n",
       "            <tr>\n",
       "                        <th id=\"T_5e138b16_9d58_11eb_b007_1e00ea2e1236level0_row7\" class=\"row_heading level0 row7\" >(41.0, 46.0]</th>\n",
       "                        <td id=\"T_5e138b16_9d58_11eb_b007_1e00ea2e1236row7_col0\" class=\"data row7 col0\" >5</td>\n",
       "                        <td id=\"T_5e138b16_9d58_11eb_b007_1e00ea2e1236row7_col1\" class=\"data row7 col1\" >$3.00</td>\n",
       "                        <td id=\"T_5e138b16_9d58_11eb_b007_1e00ea2e1236row7_col2\" class=\"data row7 col2\" >$14.99</td>\n",
       "                        <td id=\"T_5e138b16_9d58_11eb_b007_1e00ea2e1236row7_col3\" class=\"data row7 col3\" >$3.00</td>\n",
       "            </tr>\n",
       "    </tbody></table>"
      ],
      "text/plain": [
       "<pandas.io.formats.style.Styler at 0x7f8edb0d08e0>"
      ]
     },
     "execution_count": 14,
     "metadata": {},
     "output_type": "execute_result"
    }
   ],
   "source": [
    "# Dataframe formatting\n",
    "format_mapping = {\n",
    "    \"Average Purchase Price\": \"${:,.2f}\",\n",
    "    \"Total Purchase Value\": \"${:,.2f}\",\n",
    "    \"Average Purchase Total\":\"${:,.2f}\"\n",
    "}\n",
    "purchases_df.style.format(format_mapping)"
   ]
  },
  {
   "cell_type": "markdown",
   "metadata": {},
   "source": [
    "## Top Spenders"
   ]
  },
  {
   "cell_type": "markdown",
   "metadata": {},
   "source": [
    "* Run basic calculations to obtain the results in the table below\n",
    "\n",
    "\n",
    "* Create a summary data frame to hold the results\n",
    "\n",
    "\n",
    "* Sort the total purchase value column in descending order\n",
    "\n",
    "\n",
    "* Optional: give the displayed data cleaner formatting\n",
    "\n",
    "\n",
    "* Display a preview of the summary data frame\n",
    "\n"
   ]
  },
  {
   "cell_type": "code",
   "execution_count": 15,
   "metadata": {},
   "outputs": [],
   "source": [
    "# Remove the bin column as it is not needed anymore\n",
    "purchase_data = purchase_data.drop(columns=\"Bin\")"
   ]
  },
  {
   "cell_type": "code",
   "execution_count": 16,
   "metadata": {},
   "outputs": [],
   "source": [
    "# create a dataframe which shows purchase count, avg price, and total price by SN\n",
    "topSpender_df = pd.DataFrame(\n",
    "    {\n",
    "        \"Purchase Count\": purchase_data[\"SN\"].value_counts(),\n",
    "        \"Average Purchase Price\": purchase_data.groupby(\"SN\")[\"Price\"].mean(),\n",
    "        \"Total Purchase Value\": purchase_data.groupby(\"SN\")[\"Price\"].sum()\n",
    "    }\n",
    ")"
   ]
  },
  {
   "cell_type": "code",
   "execution_count": 17,
   "metadata": {},
   "outputs": [
    {
     "data": {
      "text/html": [
       "<style  type=\"text/css\" >\n",
       "</style><table id=\"T_5e163866_9d58_11eb_b007_1e00ea2e1236\" ><thead>    <tr>        <th class=\"blank level0\" ></th>        <th class=\"col_heading level0 col0\" >Purchase Count</th>        <th class=\"col_heading level0 col1\" >Average Purchase Price</th>        <th class=\"col_heading level0 col2\" >Total Purchase Value</th>    </tr></thead><tbody>\n",
       "                <tr>\n",
       "                        <th id=\"T_5e163866_9d58_11eb_b007_1e00ea2e1236level0_row0\" class=\"row_heading level0 row0\" >Lisosia93</th>\n",
       "                        <td id=\"T_5e163866_9d58_11eb_b007_1e00ea2e1236row0_col0\" class=\"data row0 col0\" >5</td>\n",
       "                        <td id=\"T_5e163866_9d58_11eb_b007_1e00ea2e1236row0_col1\" class=\"data row0 col1\" >$3.79</td>\n",
       "                        <td id=\"T_5e163866_9d58_11eb_b007_1e00ea2e1236row0_col2\" class=\"data row0 col2\" >$18.96</td>\n",
       "            </tr>\n",
       "            <tr>\n",
       "                        <th id=\"T_5e163866_9d58_11eb_b007_1e00ea2e1236level0_row1\" class=\"row_heading level0 row1\" >Idastidru52</th>\n",
       "                        <td id=\"T_5e163866_9d58_11eb_b007_1e00ea2e1236row1_col0\" class=\"data row1 col0\" >4</td>\n",
       "                        <td id=\"T_5e163866_9d58_11eb_b007_1e00ea2e1236row1_col1\" class=\"data row1 col1\" >$3.86</td>\n",
       "                        <td id=\"T_5e163866_9d58_11eb_b007_1e00ea2e1236row1_col2\" class=\"data row1 col2\" >$15.45</td>\n",
       "            </tr>\n",
       "            <tr>\n",
       "                        <th id=\"T_5e163866_9d58_11eb_b007_1e00ea2e1236level0_row2\" class=\"row_heading level0 row2\" >Chamjask73</th>\n",
       "                        <td id=\"T_5e163866_9d58_11eb_b007_1e00ea2e1236row2_col0\" class=\"data row2 col0\" >3</td>\n",
       "                        <td id=\"T_5e163866_9d58_11eb_b007_1e00ea2e1236row2_col1\" class=\"data row2 col1\" >$4.61</td>\n",
       "                        <td id=\"T_5e163866_9d58_11eb_b007_1e00ea2e1236row2_col2\" class=\"data row2 col2\" >$13.83</td>\n",
       "            </tr>\n",
       "            <tr>\n",
       "                        <th id=\"T_5e163866_9d58_11eb_b007_1e00ea2e1236level0_row3\" class=\"row_heading level0 row3\" >Iral74</th>\n",
       "                        <td id=\"T_5e163866_9d58_11eb_b007_1e00ea2e1236row3_col0\" class=\"data row3 col0\" >4</td>\n",
       "                        <td id=\"T_5e163866_9d58_11eb_b007_1e00ea2e1236row3_col1\" class=\"data row3 col1\" >$3.40</td>\n",
       "                        <td id=\"T_5e163866_9d58_11eb_b007_1e00ea2e1236row3_col2\" class=\"data row3 col2\" >$13.62</td>\n",
       "            </tr>\n",
       "            <tr>\n",
       "                        <th id=\"T_5e163866_9d58_11eb_b007_1e00ea2e1236level0_row4\" class=\"row_heading level0 row4\" >Iskadarya95</th>\n",
       "                        <td id=\"T_5e163866_9d58_11eb_b007_1e00ea2e1236row4_col0\" class=\"data row4 col0\" >3</td>\n",
       "                        <td id=\"T_5e163866_9d58_11eb_b007_1e00ea2e1236row4_col1\" class=\"data row4 col1\" >$4.37</td>\n",
       "                        <td id=\"T_5e163866_9d58_11eb_b007_1e00ea2e1236row4_col2\" class=\"data row4 col2\" >$13.10</td>\n",
       "            </tr>\n",
       "    </tbody></table>"
      ],
      "text/plain": [
       "<pandas.io.formats.style.Styler at 0x7f8edb0d0e20>"
      ]
     },
     "execution_count": 17,
     "metadata": {},
     "output_type": "execute_result"
    }
   ],
   "source": [
    "# Formatting and sorting dataframe\n",
    "format_mapping = {\n",
    "    \"Average Purchase Price\": \"${:,.2f}\",\n",
    "    \"Total Purchase Value\": \"${:,.2f}\"\n",
    "}\n",
    "topSpender_df.sort_values(by=\"Total Purchase Value\",ascending=False).head(5).style.format(format_mapping)"
   ]
  },
  {
   "cell_type": "markdown",
   "metadata": {},
   "source": [
    "## Most Popular Items"
   ]
  },
  {
   "cell_type": "markdown",
   "metadata": {},
   "source": [
    "* Retrieve the Item ID, Item Name, and Item Price columns\n",
    "\n",
    "\n",
    "* Group by Item ID and Item Name. Perform calculations to obtain purchase count, average item price, and total purchase value\n",
    "\n",
    "\n",
    "* Create a summary data frame to hold the results\n",
    "\n",
    "\n",
    "* Sort the purchase count column in descending order\n",
    "\n",
    "\n",
    "* Optional: give the displayed data cleaner formatting\n",
    "\n",
    "\n",
    "* Display a preview of the summary data frame\n",
    "\n"
   ]
  },
  {
   "cell_type": "code",
   "execution_count": null,
   "metadata": {},
   "outputs": [],
   "source": [
    "# Reduce the size of df to what is needed\n",
    "item_id = purchase_data[[\"Item ID\",\"Item Name\",\"Price\"]]\n",
    "# group by id and name\n",
    "item_group = item_id.groupby([\"Item ID\",\"Item Name\"])\n",
    "\n",
    "itemCount = item_id.groupby(\"Item ID\")[\"Item Name\"].value_counts()\n",
    "itemPrice = item_group[\"Price\"].mean()\n",
    "itemTotal = itemCount * itemPrice"
   ]
  },
  {
   "cell_type": "code",
   "execution_count": 150,
   "metadata": {},
   "outputs": [],
   "source": [
    "# Construct dataframe\n",
    "popular_df = pd.DataFrame(\n",
    "    {\n",
    "        \"Purchase Count\": itemCount,\n",
    "        \"Item Price\": itemPrice,\n",
    "        \"Total Purchase Value\": itemTotal \n",
    "    }\n",
    ")"
   ]
  },
  {
   "cell_type": "code",
   "execution_count": 153,
   "metadata": {},
   "outputs": [
    {
     "data": {
      "text/html": [
       "<style  type=\"text/css\" >\n",
       "</style><table id=\"T_f3d6ae94_9d62_11eb_b007_1e00ea2e1236\" ><thead>    <tr>        <th class=\"blank\" ></th>        <th class=\"blank level0\" ></th>        <th class=\"col_heading level0 col0\" >Purchase Count</th>        <th class=\"col_heading level0 col1\" >Item Price</th>        <th class=\"col_heading level0 col2\" >Total Purchase Value</th>    </tr>    <tr>        <th class=\"index_name level0\" >Item ID</th>        <th class=\"index_name level1\" >Item Name</th>        <th class=\"blank\" ></th>        <th class=\"blank\" ></th>        <th class=\"blank\" ></th>    </tr></thead><tbody>\n",
       "                <tr>\n",
       "                        <th id=\"T_f3d6ae94_9d62_11eb_b007_1e00ea2e1236level0_row0\" class=\"row_heading level0 row0\" >92</th>\n",
       "                        <th id=\"T_f3d6ae94_9d62_11eb_b007_1e00ea2e1236level1_row0\" class=\"row_heading level1 row0\" >Final Critic</th>\n",
       "                        <td id=\"T_f3d6ae94_9d62_11eb_b007_1e00ea2e1236row0_col0\" class=\"data row0 col0\" >13</td>\n",
       "                        <td id=\"T_f3d6ae94_9d62_11eb_b007_1e00ea2e1236row0_col1\" class=\"data row0 col1\" >$4.61</td>\n",
       "                        <td id=\"T_f3d6ae94_9d62_11eb_b007_1e00ea2e1236row0_col2\" class=\"data row0 col2\" >$59.99</td>\n",
       "            </tr>\n",
       "            <tr>\n",
       "                        <th id=\"T_f3d6ae94_9d62_11eb_b007_1e00ea2e1236level0_row1\" class=\"row_heading level0 row1\" >178</th>\n",
       "                        <th id=\"T_f3d6ae94_9d62_11eb_b007_1e00ea2e1236level1_row1\" class=\"row_heading level1 row1\" >Oathbreaker, Last Hope of the Breaking Storm</th>\n",
       "                        <td id=\"T_f3d6ae94_9d62_11eb_b007_1e00ea2e1236row1_col0\" class=\"data row1 col0\" >12</td>\n",
       "                        <td id=\"T_f3d6ae94_9d62_11eb_b007_1e00ea2e1236row1_col1\" class=\"data row1 col1\" >$4.23</td>\n",
       "                        <td id=\"T_f3d6ae94_9d62_11eb_b007_1e00ea2e1236row1_col2\" class=\"data row1 col2\" >$50.76</td>\n",
       "            </tr>\n",
       "            <tr>\n",
       "                        <th id=\"T_f3d6ae94_9d62_11eb_b007_1e00ea2e1236level0_row2\" class=\"row_heading level0 row2\" >145</th>\n",
       "                        <th id=\"T_f3d6ae94_9d62_11eb_b007_1e00ea2e1236level1_row2\" class=\"row_heading level1 row2\" >Fiery Glass Crusader</th>\n",
       "                        <td id=\"T_f3d6ae94_9d62_11eb_b007_1e00ea2e1236row2_col0\" class=\"data row2 col0\" >9</td>\n",
       "                        <td id=\"T_f3d6ae94_9d62_11eb_b007_1e00ea2e1236row2_col1\" class=\"data row2 col1\" >$4.58</td>\n",
       "                        <td id=\"T_f3d6ae94_9d62_11eb_b007_1e00ea2e1236row2_col2\" class=\"data row2 col2\" >$41.22</td>\n",
       "            </tr>\n",
       "            <tr>\n",
       "                        <th id=\"T_f3d6ae94_9d62_11eb_b007_1e00ea2e1236level0_row3\" class=\"row_heading level0 row3\" >132</th>\n",
       "                        <th id=\"T_f3d6ae94_9d62_11eb_b007_1e00ea2e1236level1_row3\" class=\"row_heading level1 row3\" >Persuasion</th>\n",
       "                        <td id=\"T_f3d6ae94_9d62_11eb_b007_1e00ea2e1236row3_col0\" class=\"data row3 col0\" >9</td>\n",
       "                        <td id=\"T_f3d6ae94_9d62_11eb_b007_1e00ea2e1236row3_col1\" class=\"data row3 col1\" >$3.22</td>\n",
       "                        <td id=\"T_f3d6ae94_9d62_11eb_b007_1e00ea2e1236row3_col2\" class=\"data row3 col2\" >$28.99</td>\n",
       "            </tr>\n",
       "            <tr>\n",
       "                        <th id=\"T_f3d6ae94_9d62_11eb_b007_1e00ea2e1236level0_row4\" class=\"row_heading level0 row4\" >108</th>\n",
       "                        <th id=\"T_f3d6ae94_9d62_11eb_b007_1e00ea2e1236level1_row4\" class=\"row_heading level1 row4\" >Extraction, Quickblade Of Trembling Hands</th>\n",
       "                        <td id=\"T_f3d6ae94_9d62_11eb_b007_1e00ea2e1236row4_col0\" class=\"data row4 col0\" >9</td>\n",
       "                        <td id=\"T_f3d6ae94_9d62_11eb_b007_1e00ea2e1236row4_col1\" class=\"data row4 col1\" >$3.53</td>\n",
       "                        <td id=\"T_f3d6ae94_9d62_11eb_b007_1e00ea2e1236row4_col2\" class=\"data row4 col2\" >$31.77</td>\n",
       "            </tr>\n",
       "    </tbody></table>"
      ],
      "text/plain": [
       "<pandas.io.formats.style.Styler at 0x7f8ee868c6d0>"
      ]
     },
     "execution_count": 153,
     "metadata": {},
     "output_type": "execute_result"
    }
   ],
   "source": [
    "# Formatting and sorting of df\n",
    "format_mapping = {\n",
    "    \"Item Price\": \"${:,.2f}\",\n",
    "    \"Total Purchase Value\": \"${:,.2f}\"\n",
    "}\n",
    "\n",
    "popular_df.sort_values(\"Purchase Count\",ascending=False).head(5).style.format(format_mapping)"
   ]
  },
  {
   "cell_type": "markdown",
   "metadata": {},
   "source": [
    "## Most Profitable Items"
   ]
  },
  {
   "cell_type": "markdown",
   "metadata": {},
   "source": [
    "* Sort the above table by total purchase value in descending order\n",
    "\n",
    "\n",
    "* Optional: give the displayed data cleaner formatting\n",
    "\n",
    "\n",
    "* Display a preview of the data frame\n",
    "\n"
   ]
  },
  {
   "cell_type": "code",
   "execution_count": 158,
   "metadata": {
    "scrolled": true
   },
   "outputs": [
    {
     "data": {
      "text/html": [
       "<style  type=\"text/css\" >\n",
       "</style><table id=\"T_142d90c2_9d63_11eb_b007_1e00ea2e1236\" ><thead>    <tr>        <th class=\"blank\" ></th>        <th class=\"blank level0\" ></th>        <th class=\"col_heading level0 col0\" >Purchase Count</th>        <th class=\"col_heading level0 col1\" >Item Price</th>        <th class=\"col_heading level0 col2\" >Total Purchase Value</th>    </tr>    <tr>        <th class=\"index_name level0\" >Item ID</th>        <th class=\"index_name level1\" >Item Name</th>        <th class=\"blank\" ></th>        <th class=\"blank\" ></th>        <th class=\"blank\" ></th>    </tr></thead><tbody>\n",
       "                <tr>\n",
       "                        <th id=\"T_142d90c2_9d63_11eb_b007_1e00ea2e1236level0_row0\" class=\"row_heading level0 row0\" >92</th>\n",
       "                        <th id=\"T_142d90c2_9d63_11eb_b007_1e00ea2e1236level1_row0\" class=\"row_heading level1 row0\" >Final Critic</th>\n",
       "                        <td id=\"T_142d90c2_9d63_11eb_b007_1e00ea2e1236row0_col0\" class=\"data row0 col0\" >13</td>\n",
       "                        <td id=\"T_142d90c2_9d63_11eb_b007_1e00ea2e1236row0_col1\" class=\"data row0 col1\" >$4.61</td>\n",
       "                        <td id=\"T_142d90c2_9d63_11eb_b007_1e00ea2e1236row0_col2\" class=\"data row0 col2\" >$59.99</td>\n",
       "            </tr>\n",
       "            <tr>\n",
       "                        <th id=\"T_142d90c2_9d63_11eb_b007_1e00ea2e1236level0_row1\" class=\"row_heading level0 row1\" >178</th>\n",
       "                        <th id=\"T_142d90c2_9d63_11eb_b007_1e00ea2e1236level1_row1\" class=\"row_heading level1 row1\" >Oathbreaker, Last Hope of the Breaking Storm</th>\n",
       "                        <td id=\"T_142d90c2_9d63_11eb_b007_1e00ea2e1236row1_col0\" class=\"data row1 col0\" >12</td>\n",
       "                        <td id=\"T_142d90c2_9d63_11eb_b007_1e00ea2e1236row1_col1\" class=\"data row1 col1\" >$4.23</td>\n",
       "                        <td id=\"T_142d90c2_9d63_11eb_b007_1e00ea2e1236row1_col2\" class=\"data row1 col2\" >$50.76</td>\n",
       "            </tr>\n",
       "            <tr>\n",
       "                        <th id=\"T_142d90c2_9d63_11eb_b007_1e00ea2e1236level0_row2\" class=\"row_heading level0 row2\" >82</th>\n",
       "                        <th id=\"T_142d90c2_9d63_11eb_b007_1e00ea2e1236level1_row2\" class=\"row_heading level1 row2\" >Nirvana</th>\n",
       "                        <td id=\"T_142d90c2_9d63_11eb_b007_1e00ea2e1236row2_col0\" class=\"data row2 col0\" >9</td>\n",
       "                        <td id=\"T_142d90c2_9d63_11eb_b007_1e00ea2e1236row2_col1\" class=\"data row2 col1\" >$4.90</td>\n",
       "                        <td id=\"T_142d90c2_9d63_11eb_b007_1e00ea2e1236row2_col2\" class=\"data row2 col2\" >$44.10</td>\n",
       "            </tr>\n",
       "            <tr>\n",
       "                        <th id=\"T_142d90c2_9d63_11eb_b007_1e00ea2e1236level0_row3\" class=\"row_heading level0 row3\" >145</th>\n",
       "                        <th id=\"T_142d90c2_9d63_11eb_b007_1e00ea2e1236level1_row3\" class=\"row_heading level1 row3\" >Fiery Glass Crusader</th>\n",
       "                        <td id=\"T_142d90c2_9d63_11eb_b007_1e00ea2e1236row3_col0\" class=\"data row3 col0\" >9</td>\n",
       "                        <td id=\"T_142d90c2_9d63_11eb_b007_1e00ea2e1236row3_col1\" class=\"data row3 col1\" >$4.58</td>\n",
       "                        <td id=\"T_142d90c2_9d63_11eb_b007_1e00ea2e1236row3_col2\" class=\"data row3 col2\" >$41.22</td>\n",
       "            </tr>\n",
       "            <tr>\n",
       "                        <th id=\"T_142d90c2_9d63_11eb_b007_1e00ea2e1236level0_row4\" class=\"row_heading level0 row4\" >103</th>\n",
       "                        <th id=\"T_142d90c2_9d63_11eb_b007_1e00ea2e1236level1_row4\" class=\"row_heading level1 row4\" >Singed Scalpel</th>\n",
       "                        <td id=\"T_142d90c2_9d63_11eb_b007_1e00ea2e1236row4_col0\" class=\"data row4 col0\" >8</td>\n",
       "                        <td id=\"T_142d90c2_9d63_11eb_b007_1e00ea2e1236row4_col1\" class=\"data row4 col1\" >$4.35</td>\n",
       "                        <td id=\"T_142d90c2_9d63_11eb_b007_1e00ea2e1236row4_col2\" class=\"data row4 col2\" >$34.80</td>\n",
       "            </tr>\n",
       "    </tbody></table>"
      ],
      "text/plain": [
       "<pandas.io.formats.style.Styler at 0x7f8eb811a3d0>"
      ]
     },
     "execution_count": 158,
     "metadata": {},
     "output_type": "execute_result"
    }
   ],
   "source": [
    "popular_df.sort_values(\"Total Purchase Value\",ascending=False).head(5).style.format(format_mapping)"
   ]
  }
 ],
 "metadata": {
  "anaconda-cloud": {},
  "kernel_info": {
   "name": "python3"
  },
  "kernelspec": {
   "display_name": "Python 3",
   "language": "python",
   "name": "python3"
  },
  "language_info": {
   "codemirror_mode": {
    "name": "ipython",
    "version": 3
   },
   "file_extension": ".py",
   "mimetype": "text/x-python",
   "name": "python",
   "nbconvert_exporter": "python",
   "pygments_lexer": "ipython3",
   "version": "3.8.5"
  },
  "latex_envs": {
   "LaTeX_envs_menu_present": true,
   "autoclose": false,
   "autocomplete": true,
   "bibliofile": "biblio.bib",
   "cite_by": "apalike",
   "current_citInitial": 1,
   "eqLabelWithNumbers": true,
   "eqNumInitial": 1,
   "hotkeys": {
    "equation": "Ctrl-E",
    "itemize": "Ctrl-I"
   },
   "labels_anchors": false,
   "latex_user_defs": false,
   "report_style_numbering": false,
   "user_envs_cfg": false
  },
  "nteract": {
   "version": "0.2.0"
  }
 },
 "nbformat": 4,
 "nbformat_minor": 4
}
